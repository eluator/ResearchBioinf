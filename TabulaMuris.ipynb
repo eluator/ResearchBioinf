{
 "cells": [
  {
   "cell_type": "code",
   "execution_count": 2,
   "id": "1fa50338",
   "metadata": {},
   "outputs": [
    {
     "name": "stdout",
     "output_type": "stream",
     "text": [
      "Defaulting to user installation because normal site-packages is not writeable\n",
      "Collecting scanpy\n",
      "  Using cached scanpy-1.8.1-py3-none-any.whl (2.0 MB)\n",
      "Collecting scikit-learn>=0.22\n",
      "  Using cached scikit_learn-0.24.2-cp38-cp38-manylinux2010_x86_64.whl (24.9 MB)\n",
      "Collecting joblib\n",
      "  Using cached joblib-1.0.1-py3-none-any.whl (303 kB)\n",
      "Collecting patsy\n",
      "  Using cached patsy-0.5.1-py2.py3-none-any.whl (231 kB)\n",
      "Collecting h5py>=2.10.0\n",
      "  Using cached h5py-3.4.0-cp38-cp38-manylinux_2_12_x86_64.manylinux2010_x86_64.whl (4.5 MB)\n",
      "Collecting scipy>=1.4\n",
      "  Using cached scipy-1.7.1-cp38-cp38-manylinux_2_5_x86_64.manylinux1_x86_64.whl (28.4 MB)\n",
      "Collecting seaborn\n",
      "  Using cached seaborn-0.11.2-py3-none-any.whl (292 kB)\n",
      "Collecting statsmodels>=0.10.0rc2\n",
      "  Using cached statsmodels-0.13.0rc0-cp38-cp38-manylinux_2_17_x86_64.manylinux2014_x86_64.whl (9.8 MB)\n",
      "Collecting umap-learn>=0.3.10\n",
      "  Using cached umap_learn-0.5.1-py3-none-any.whl\n",
      "Collecting sinfo\n",
      "  Using cached sinfo-0.3.4-py3-none-any.whl\n",
      "Collecting tables\n",
      "  Using cached tables-3.6.1-cp38-cp38-manylinux1_x86_64.whl (4.3 MB)\n",
      "Requirement already satisfied: numpy>=1.17.0 in /usr/local/lib/python3.8/dist-packages (from scanpy) (1.21.2)\n",
      "Collecting natsort\n",
      "  Using cached natsort-7.1.1-py3-none-any.whl (35 kB)\n",
      "Requirement already satisfied: packaging in /home/eluator/.local/lib/python3.8/site-packages (from scanpy) (21.0)\n",
      "Collecting numba>=0.41.0\n",
      "  Using cached numba-0.54.0-cp38-cp38-manylinux2014_x86_64.manylinux_2_17_x86_64.whl (3.5 MB)\n",
      "Requirement already satisfied: matplotlib>=3.1.2 in /usr/local/lib/python3.8/dist-packages (from scanpy) (3.4.3)\n",
      "Collecting networkx>=2.3\n",
      "  Using cached networkx-2.6.3-py3-none-any.whl (1.9 MB)\n",
      "Collecting anndata>=0.7.4\n",
      "  Using cached anndata-0.7.6-py3-none-any.whl (127 kB)\n",
      "Collecting pandas>=0.21\n",
      "  Using cached pandas-1.3.3-cp38-cp38-manylinux_2_17_x86_64.manylinux2014_x86_64.whl (11.5 MB)\n",
      "Collecting tqdm\n",
      "  Using cached tqdm-4.62.2-py2.py3-none-any.whl (76 kB)\n",
      "Collecting xlrd<2.0\n",
      "  Using cached xlrd-1.2.0-py2.py3-none-any.whl (103 kB)\n",
      "Requirement already satisfied: pillow>=6.2.0 in /usr/lib/python3/dist-packages (from matplotlib>=3.1.2->scanpy) (7.0.0)\n",
      "Requirement already satisfied: cycler>=0.10 in /usr/local/lib/python3.8/dist-packages (from matplotlib>=3.1.2->scanpy) (0.10.0)\n",
      "Requirement already satisfied: python-dateutil>=2.7 in /usr/lib/python3/dist-packages (from matplotlib>=3.1.2->scanpy) (2.7.3)\n",
      "Requirement already satisfied: kiwisolver>=1.0.1 in /usr/local/lib/python3.8/dist-packages (from matplotlib>=3.1.2->scanpy) (1.3.2)\n",
      "Requirement already satisfied: pyparsing>=2.2.1 in /usr/local/lib/python3.8/dist-packages (from matplotlib>=3.1.2->scanpy) (2.4.7)\n",
      "Requirement already satisfied: six in /usr/lib/python3/dist-packages (from cycler>=0.10->matplotlib>=3.1.2->scanpy) (1.14.0)\n",
      "Collecting numpy>=1.17.0\n",
      "  Using cached numpy-1.20.3-cp38-cp38-manylinux_2_12_x86_64.manylinux2010_x86_64.whl (15.4 MB)\n",
      "Requirement already satisfied: setuptools in /usr/local/lib/python3.8/dist-packages (from numba>=0.41.0->scanpy) (58.0.4)\n",
      "Collecting llvmlite<0.38,>=0.37.0rc1\n",
      "  Using cached llvmlite-0.37.0-cp38-cp38-manylinux2014_x86_64.whl (26.3 MB)\n",
      "Requirement already satisfied: pytz>=2017.3 in /usr/lib/python3/dist-packages (from pandas>=0.21->scanpy) (2019.3)\n",
      "Collecting threadpoolctl>=2.0.0\n",
      "  Using cached threadpoolctl-2.2.0-py3-none-any.whl (12 kB)\n",
      "Collecting pynndescent>=0.5\n",
      "  Using cached pynndescent-0.5.4-py3-none-any.whl\n",
      "Collecting stdlib-list\n",
      "  Using cached stdlib_list-0.8.0-py3-none-any.whl (63 kB)\n",
      "Collecting numexpr>=2.6.2\n",
      "  Using cached numexpr-2.7.3-cp38-cp38-manylinux2010_x86_64.whl (473 kB)\n",
      "Installing collected packages: numpy, threadpoolctl, scipy, llvmlite, joblib, scikit-learn, numba, xlrd, stdlib-list, pynndescent, patsy, pandas, numexpr, natsort, h5py, umap-learn, tqdm, tables, statsmodels, sinfo, seaborn, networkx, anndata, scanpy\n",
      "Successfully installed anndata-0.7.6 h5py-3.4.0 joblib-1.0.1 llvmlite-0.37.0 natsort-7.1.1 networkx-2.6.3 numba-0.54.0 numexpr-2.7.3 numpy-1.20.3 pandas-1.3.3 patsy-0.5.1 pynndescent-0.5.4 scanpy-1.8.1 scikit-learn-0.24.2 scipy-1.7.1 seaborn-0.11.2 sinfo-0.3.4 statsmodels-0.13.0rc0 stdlib-list-0.8.0 tables-3.6.1 threadpoolctl-2.2.0 tqdm-4.62.2 umap-learn-0.5.1 xlrd-1.2.0\n"
     ]
    }
   ],
   "source": [
    "!pip install scanpy"
   ]
  },
  {
   "cell_type": "code",
   "execution_count": 28,
   "id": "247ddbf0",
   "metadata": {},
   "outputs": [],
   "source": [
    "import scanpy as sc\n",
    "import numpy as np\n",
    "from sklearn.linear_model import ElasticNet"
   ]
  },
  {
   "cell_type": "code",
   "execution_count": 4,
   "id": "3129c0e5",
   "metadata": {},
   "outputs": [],
   "source": [
    "adata = sc.read_h5ad(\"/home/eluator/Downloads/tabula-muris-senis-facs-official-raw-obj.h5ad\")"
   ]
  },
  {
   "cell_type": "code",
   "execution_count": 5,
   "id": "d4af287c",
   "metadata": {},
   "outputs": [
    {
     "name": "stdout",
     "output_type": "stream",
     "text": [
      "AnnData object with n_obs × n_vars = 110824 × 22966\n",
      "    obs: 'FACS.selection', 'age', 'cell', 'cell_ontology_class', 'cell_ontology_id', 'free_annotation', 'method', 'mouse.id', 'sex', 'subtissue', 'tissue', 'n_genes', 'n_counts'\n",
      "    var: 'n_cells'\n"
     ]
    }
   ],
   "source": [
    "print(adata)"
   ]
  },
  {
   "cell_type": "code",
   "execution_count": 6,
   "id": "0c22472e",
   "metadata": {},
   "outputs": [
    {
     "name": "stdout",
     "output_type": "stream",
     "text": [
      "index\n",
      "A10_B000497_B009023_S10.mm10-plus-0-0    2706\n",
      "A10_B000756_B007446_S10.mm10-plus-0-0    3212\n",
      "A10_B000802_B009022_S10.mm10-plus-0-0    2243\n",
      "A10_B000927_B007456_S10.mm10-plus-0-0    2789\n",
      "A10_B001361_B007505_S10.mm10-plus-0-0    1237\n",
      "                                         ... \n",
      "P8_MAA001690_S20.mus-2-1                 3523\n",
      "P8_MAA001700_S104.mus-2-1                4476\n",
      "P9_B000485_S69.mus-2-1                   2980\n",
      "P9_B000492_S153.mus-2-1                  2595\n",
      "P9_MAA001700_S105.mus-2-1                2520\n",
      "Name: n_genes, Length: 110824, dtype: int64\n"
     ]
    }
   ],
   "source": [
    "print(adata.obs['n_genes'])"
   ]
  },
  {
   "cell_type": "code",
   "execution_count": 7,
   "id": "701bef4d",
   "metadata": {},
   "outputs": [
    {
     "data": {
      "text/plain": [
       "(110824, 22966)"
      ]
     },
     "execution_count": 7,
     "metadata": {},
     "output_type": "execute_result"
    }
   ],
   "source": [
    "adata.X.shape"
   ]
  },
  {
   "cell_type": "code",
   "execution_count": 8,
   "id": "f4f738a0",
   "metadata": {},
   "outputs": [
    {
     "data": {
      "text/plain": [
       "index\n",
       "A10_B000497_B009023_S10.mm10-plus-0-0    18m\n",
       "A10_B000756_B007446_S10.mm10-plus-0-0    18m\n",
       "A10_B000802_B009022_S10.mm10-plus-0-0    18m\n",
       "A10_B000927_B007456_S10.mm10-plus-0-0    18m\n",
       "A10_B001361_B007505_S10.mm10-plus-0-0    18m\n",
       "                                        ... \n",
       "P8_MAA001690_S20.mus-2-1                 21m\n",
       "P8_MAA001700_S104.mus-2-1                21m\n",
       "P9_B000485_S69.mus-2-1                   18m\n",
       "P9_B000492_S153.mus-2-1                  18m\n",
       "P9_MAA001700_S105.mus-2-1                21m\n",
       "Name: age, Length: 110824, dtype: category\n",
       "Categories (4, object): ['3m', '18m', '21m', '24m']"
      ]
     },
     "execution_count": 8,
     "metadata": {},
     "output_type": "execute_result"
    }
   ],
   "source": [
    "adata.obs['age']"
   ]
  },
  {
   "cell_type": "code",
   "execution_count": 9,
   "id": "6466b28c",
   "metadata": {
    "scrolled": true
   },
   "outputs": [
    {
     "data": {
      "text/plain": [
       "index\n",
       "0610005C13Rik     3939\n",
       "0610007C21Rik    61891\n",
       "0610007L01Rik    36115\n",
       "0610007N19Rik    19591\n",
       "0610007P08Rik    12581\n",
       "                 ...  \n",
       "Zyg11a             276\n",
       "Zyg11b           23165\n",
       "Zyx              58021\n",
       "Zzef1            26577\n",
       "Zzz3             23403\n",
       "Name: n_cells, Length: 22966, dtype: int64"
      ]
     },
     "execution_count": 9,
     "metadata": {},
     "output_type": "execute_result"
    }
   ],
   "source": [
    "adata.var['n_cells']"
   ]
  },
  {
   "cell_type": "code",
   "execution_count": 10,
   "id": "d8dc736d",
   "metadata": {},
   "outputs": [
    {
     "name": "stdout",
     "output_type": "stream",
     "text": [
      "  (0, 1)\t15.0\n",
      "  (0, 5)\t30.0\n",
      "  (0, 10)\t233.0\n",
      "  (0, 15)\t633.0\n",
      "  (0, 22)\t30.0\n",
      "  (0, 26)\t23.0\n",
      "  (0, 33)\t680.0\n",
      "  (0, 36)\t89.0\n",
      "  (0, 38)\t24.0\n",
      "  (0, 41)\t281.0\n",
      "  (0, 42)\t316.0\n",
      "  (0, 43)\t89.0\n",
      "  (0, 46)\t422.0\n",
      "  (0, 47)\t279.0\n",
      "  (0, 53)\t89.0\n",
      "  (0, 77)\t103.0\n",
      "  (0, 91)\t249.0\n",
      "  (0, 96)\t461.0\n",
      "  (0, 99)\t211.0\n",
      "  (0, 107)\t56.0\n",
      "  (0, 108)\t388.0\n",
      "  (0, 111)\t5.0\n",
      "  (0, 116)\t27.0\n",
      "  (0, 126)\t325.0\n",
      "  (0, 127)\t176.0\n",
      "  :\t:\n",
      "  (0, 22592)\t39.0\n",
      "  (0, 22616)\t5.0\n",
      "  (0, 22638)\t140.0\n",
      "  (0, 22699)\t27.0\n",
      "  (0, 22703)\t38.0\n",
      "  (0, 22707)\t104.0\n",
      "  (0, 22725)\t24.0\n",
      "  (0, 22727)\t333.0\n",
      "  (0, 22741)\t35.0\n",
      "  (0, 22768)\t106.0\n",
      "  (0, 22781)\t2.0\n",
      "  (0, 22795)\t260.0\n",
      "  (0, 22805)\t30.0\n",
      "  (0, 22829)\t67.0\n",
      "  (0, 22849)\t40.0\n",
      "  (0, 22868)\t205.0\n",
      "  (0, 22887)\t402.0\n",
      "  (0, 22909)\t305.0\n",
      "  (0, 22911)\t287.0\n",
      "  (0, 22912)\t34.0\n",
      "  (0, 22913)\t281.0\n",
      "  (0, 22917)\t576.0\n",
      "  (0, 22928)\t146.0\n",
      "  (0, 22953)\t36.0\n",
      "  (0, 22955)\t370.0\n"
     ]
    }
   ],
   "source": [
    "print(adata.X[0])"
   ]
  },
  {
   "cell_type": "code",
   "execution_count": 11,
   "id": "12468e87",
   "metadata": {},
   "outputs": [
    {
     "name": "stdout",
     "output_type": "stream",
     "text": [
      "  (192, 0)\t3.0\n",
      "  (710, 0)\t105.0\n",
      "  (766, 0)\t134.0\n",
      "  (1086, 0)\t26.0\n",
      "  (1090, 0)\t2.0\n",
      "  (1762, 0)\t3.0\n",
      "  (1824, 0)\t20.0\n",
      "  (2071, 0)\t3.0\n",
      "  (2189, 0)\t30.0\n",
      "  (2311, 0)\t14.0\n",
      "  (2768, 0)\t1.0\n",
      "  (2853, 0)\t1.0\n",
      "  (3222, 0)\t2.0\n",
      "  (4160, 0)\t31.0\n",
      "  (4336, 0)\t9.0\n",
      "  (4546, 0)\t12.0\n",
      "  (4914, 0)\t82.0\n",
      "  (5087, 0)\t16.0\n",
      "  (5254, 0)\t15.0\n",
      "  (5534, 0)\t53.0\n",
      "  (5592, 0)\t168.0\n",
      "  (5984, 0)\t12.0\n",
      "  (6738, 0)\t46.0\n",
      "  (7468, 0)\t5.0\n",
      "  (7638, 0)\t3.0\n",
      "  :\t:\n",
      "  (108482, 0)\t8.0\n",
      "  (108483, 0)\t230.0\n",
      "  (108569, 0)\t18.0\n",
      "  (108578, 0)\t26.0\n",
      "  (108591, 0)\t24.0\n",
      "  (108694, 0)\t2.0\n",
      "  (108701, 0)\t318.0\n",
      "  (108720, 0)\t29.0\n",
      "  (108748, 0)\t106.0\n",
      "  (108850, 0)\t322.0\n",
      "  (108866, 0)\t146.0\n",
      "  (108893, 0)\t209.0\n",
      "  (108976, 0)\t1.0\n",
      "  (108980, 0)\t4.0\n",
      "  (108987, 0)\t99.0\n",
      "  (109023, 0)\t26.0\n",
      "  (109024, 0)\t111.0\n",
      "  (109268, 0)\t17.0\n",
      "  (109269, 0)\t35.0\n",
      "  (109297, 0)\t31.0\n",
      "  (109325, 0)\t1.0\n",
      "  (109395, 0)\t43.0\n",
      "  (109411, 0)\t4.0\n",
      "  (109726, 0)\t20.0\n",
      "  (110318, 0)\t41.0\n"
     ]
    }
   ],
   "source": [
    "print(adata.X[:, 0])"
   ]
  },
  {
   "cell_type": "code",
   "execution_count": 12,
   "id": "8a9d3b20",
   "metadata": {},
   "outputs": [
    {
     "name": "stdout",
     "output_type": "stream",
     "text": [
      "['A10_B000497_B009023_S10.mm10-plus-0-0', 'A10_B000756_B007446_S10.mm10-plus-0-0', 'A10_B000802_B009022_S10.mm10-plus-0-0', 'A10_B000927_B007456_S10.mm10-plus-0-0', 'A10_B001361_B007505_S10.mm10-plus-0-0', 'A10_B002452_B009020_S10.mm10-plus-0-0', 'A10_B002850_B007342_S10.mm10-plus-0-0', 'A10_B003262_B007459_S10.mm10-plus-0-0', 'A10_B003294_B007450_S10.mm10-plus-0-0', 'A11_B000497_B009023_S11.mm10-plus-0-0']\n",
      "['P7_B000956_S235.mus-2-1', 'P7_MAA001690_S19.mus-2-1', 'P7_MAA001700_S103.mus-2-1', 'P8_B000485_S68.mus-2-1', 'P8_B000492_S152.mus-2-1', 'P8_MAA001690_S20.mus-2-1', 'P8_MAA001700_S104.mus-2-1', 'P9_B000485_S69.mus-2-1', 'P9_B000492_S153.mus-2-1', 'P9_MAA001700_S105.mus-2-1']\n",
      "\n",
      "['0610005C13Rik', '0610007C21Rik', '0610007L01Rik', '0610007N19Rik', '0610007P08Rik', '0610007P14Rik', '0610007P22Rik', '0610008F07Rik', '0610009B14Rik', '0610009B22Rik']\n",
      "['Zwilch', 'Zwint', 'Zxda', 'Zxdb', 'Zxdc', 'Zyg11a', 'Zyg11b', 'Zyx', 'Zzef1', 'Zzz3']\n"
     ]
    }
   ],
   "source": [
    "print(adata.obs_names[:10].tolist())\n",
    "print(adata.obs_names[-10:].tolist())\n",
    "print(\"\")\n",
    "print(adata.var_names[:10].tolist())\n",
    "print(adata.var_names[-10:].tolist())"
   ]
  },
  {
   "cell_type": "code",
   "execution_count": 17,
   "id": "262b04ae",
   "metadata": {},
   "outputs": [
    {
     "name": "stdout",
     "output_type": "stream",
     "text": [
      "                          FACS.selection age                   cell  \\\n",
      "index                                                                 \n",
      "A1.B000126.3_39_F.1.1-1-1            nan  3m  A1.B000126.3_39_F.1.1   \n",
      "A1.B000127.3_38_F.1.1-1-1            nan  3m  A1.B000127.3_38_F.1.1   \n",
      "A1.B000167.3_56_F.1.1-1-1            nan  3m  A1.B000167.3_56_F.1.1   \n",
      "A1.B000412.3_56_F.1.1-1-1            nan  3m  A1.B000412.3_56_F.1.1   \n",
      "A1.B000633.3_56_F.1.1-1-1            nan  3m  A1.B000633.3_56_F.1.1   \n",
      "\n",
      "                                           cell_ontology_class  \\\n",
      "index                                                            \n",
      "A1.B000126.3_39_F.1.1-1-1              basal cell of epidermis   \n",
      "A1.B000127.3_38_F.1.1-1-1                     endothelial cell   \n",
      "A1.B000167.3_56_F.1.1-1-1                           basal cell   \n",
      "A1.B000412.3_56_F.1.1-1-1  endothelial cell of coronary artery   \n",
      "A1.B000633.3_56_F.1.1-1-1                             monocyte   \n",
      "\n",
      "                          cell_ontology_id  \\\n",
      "index                                        \n",
      "A1.B000126.3_39_F.1.1-1-1       CL:0000362   \n",
      "A1.B000127.3_38_F.1.1-1-1       CL:0000115   \n",
      "A1.B000167.3_56_F.1.1-1-1       CL:0000646   \n",
      "A1.B000412.3_56_F.1.1-1-1       CL:0000115   \n",
      "A1.B000633.3_56_F.1.1-1-1       CL:0000738   \n",
      "\n",
      "                                              free_annotation method mouse.id  \\\n",
      "index                                                                           \n",
      "A1.B000126.3_39_F.1.1-1-1                                 nan   facs   3_39_F   \n",
      "A1.B000127.3_38_F.1.1-1-1                                 nan   facs   3_38_F   \n",
      "A1.B000167.3_56_F.1.1-1-1                          basal cell   facs   3_56_F   \n",
      "A1.B000412.3_56_F.1.1-1-1  coronary vascular endothelial cell   facs   3_56_F   \n",
      "A1.B000633.3_56_F.1.1-1-1                            monocyte   facs   3_56_F   \n",
      "\n",
      "                              sex      subtissue         tissue  n_genes  \\\n",
      "index                                                                      \n",
      "A1.B000126.3_39_F.1.1-1-1  female        Telogen           Skin     3125   \n",
      "A1.B000127.3_38_F.1.1-1-1  female            Fat           SCAT     1105   \n",
      "A1.B000167.3_56_F.1.1-1-1  female  Mammary_Gland  Mammary_Gland     4211   \n",
      "A1.B000412.3_56_F.1.1-1-1  female             RA          Heart     1553   \n",
      "A1.B000633.3_56_F.1.1-1-1  female             RV          Heart     2772   \n",
      "\n",
      "                           n_counts  \n",
      "index                                \n",
      "A1.B000126.3_39_F.1.1-1-1  599257.0  \n",
      "A1.B000127.3_38_F.1.1-1-1  498539.0  \n",
      "A1.B000167.3_56_F.1.1-1-1  383682.0  \n",
      "A1.B000412.3_56_F.1.1-1-1  755516.0  \n",
      "A1.B000633.3_56_F.1.1-1-1  827214.0  \n"
     ]
    }
   ],
   "source": [
    "print(adata[adata.obs['age'].isin(['3m'])].obs.head())"
   ]
  },
  {
   "cell_type": "code",
   "execution_count": 20,
   "id": "4e6f52a3",
   "metadata": {},
   "outputs": [
    {
     "name": "stdout",
     "output_type": "stream",
     "text": [
      "<class 'scipy.sparse.csr.csr_matrix'>\n",
      "110824\n"
     ]
    }
   ],
   "source": [
    "print(type(adata.X))\n",
    "print(adata.X.shape[0])"
   ]
  },
  {
   "cell_type": "code",
   "execution_count": 21,
   "id": "7ba3349e",
   "metadata": {},
   "outputs": [],
   "source": [
    "y = np.arange(adata.X.shape[0])"
   ]
  },
  {
   "cell_type": "code",
   "execution_count": 26,
   "id": "804e92d3",
   "metadata": {},
   "outputs": [],
   "source": [
    "y[adata.obs['age'].isin(['3m'])] = 3\n",
    "y[adata.obs['age'].isin(['18m'])] = 18\n",
    "y[adata.obs['age'].isin(['21m'])] = 21\n",
    "y[adata.obs['age'].isin(['24m'])] = 24"
   ]
  },
  {
   "cell_type": "code",
   "execution_count": 27,
   "id": "135fad08",
   "metadata": {},
   "outputs": [
    {
     "data": {
      "text/plain": [
       "array([18, 18, 18, ..., 18, 18, 21])"
      ]
     },
     "execution_count": 27,
     "metadata": {},
     "output_type": "execute_result"
    }
   ],
   "source": [
    "y"
   ]
  },
  {
   "cell_type": "code",
   "execution_count": 29,
   "id": "6d9f6664",
   "metadata": {},
   "outputs": [],
   "source": [
    "regr = ElasticNet(random_state=0)"
   ]
  },
  {
   "cell_type": "code",
   "execution_count": null,
   "id": "635339ee",
   "metadata": {},
   "outputs": [],
   "source": [
    "regr.fit(adata.X, y)"
   ]
  },
  {
   "cell_type": "code",
   "execution_count": null,
   "id": "2d2fe3fc",
   "metadata": {},
   "outputs": [],
   "source": []
  }
 ],
 "metadata": {
  "kernelspec": {
   "display_name": "Python 3 (ipykernel)",
   "language": "python",
   "name": "python3"
  },
  "language_info": {
   "codemirror_mode": {
    "name": "ipython",
    "version": 3
   },
   "file_extension": ".py",
   "mimetype": "text/x-python",
   "name": "python",
   "nbconvert_exporter": "python",
   "pygments_lexer": "ipython3",
   "version": "3.8.10"
  }
 },
 "nbformat": 4,
 "nbformat_minor": 5
}
