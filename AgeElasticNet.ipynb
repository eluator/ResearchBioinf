{
 "cells": [
  {
   "cell_type": "code",
   "execution_count": null,
   "id": "2f214948",
   "metadata": {},
   "outputs": [],
   "source": [
    "import pandas as pd\n",
    "import numpy as np\n",
    "import torch\n",
    "from torch.optim import Adam\n",
    "\n",
    "from torch.utils.data import Dataset, DataLoader\n",
    "from torch.utils.data.sampler import SubsetRandomSampler\n",
    "\n",
    "import pyreadr\n",
    "import matplotlib.pyplot as plt\n",
    "import seaborn as sns\n",
    "from sklearn.manifold import TSNE\n",
    "from mpl_toolkits.mplot3d import Axes3D\n",
    "\n",
    "from sklearn.linear_model import ElasticNet\n",
    "from sklearn.model_selection import GroupShuffleSplit\n",
    "\n",
    "from model import ElasticNet\n",
    "from trainer import train_regression"
   ]
  },
  {
   "cell_type": "code",
   "execution_count": null,
   "id": "b95a8eed",
   "metadata": {},
   "outputs": [],
   "source": [
    "data = pd.read_csv(home_dir + \"/Data/Aging_data_combined_orthologs.csv\")\n",
    "datawNAN = data.fillna(0)\n",
    "datawNAN, y, group = np.array(datawNAN.select_dtypes(include=['float64']).iloc[:, :-1].values), np.array(datawNAN.select_dtypes(include=['float64']).iloc[:, -2].values), \\\n",
    "                      np.array(datawNAN[\"GEO\"].values)\n",
    "print(y, group)\n",
    "n_groups = 5"
   ]
  },
  {
   "cell_type": "code",
   "execution_count": null,
   "id": "0775d2ba",
   "metadata": {},
   "outputs": [],
   "source": [
    "gss = GroupShuffleSplit(n_splits = n_groups, train_size=.7, random_state=42)\n",
    "for train_idx, test_idx in gss.split(datawNAN, y, group):\n",
    "  print(\"TRAIN:\", train_idx, \"TEST:\", test_idx)"
   ]
  },
  {
   "cell_type": "code",
   "execution_count": null,
   "id": "17cabbbe",
   "metadata": {},
   "outputs": [],
   "source": [
    "params = None\n",
    "for train_idx, test_idx in gss.split(datawNAN, y, group):\n",
    "  X, Y = datawNAN[train_idx, :-1], y[train_idx]\n",
    "  test_X, test_Y = datawNAN[test_idx, :-1], y[test_idx]\n",
    "  regr = ElasticNet()\n",
    "  regr.fit(X, Y)\n",
    "  print(X.shape, Y.shape)\n",
    "  print(regr.coef_)\n",
    "  print(regr.predict(X))\n",
    "  params = regr.coef_ if params is None else regr.coef_ + params\n",
    "  print(\"Score train:\", regr.score(X, Y), \"Score test:\", regr.score(test_X, test_Y))\n",
    "avgNet = ElasticNet()\n",
    "avgNet.fit(X, Y)\n",
    "avgNet.coef_ = params/n_groups\n",
    "print(\"Score avg train:\", avgNet.score(X, Y), \"Score avg test:\", avgNet.score(test_X, test_Y))"
   ]
  },
  {
   "cell_type": "code",
   "execution_count": null,
   "id": "a96a5707",
   "metadata": {},
   "outputs": [],
   "source": [
    "X = np.array([[1, 1], [1, 2], [2, 2], [2, 3]])\n",
    "Y = np.dot(X, np.array([1, 2])) + 3\n",
    "avgNet = ElasticNet()\n",
    "avgNet.fit(X, Y)\n",
    "print(X.shape, Y.shape)\n",
    "print(avgNet.coef_)\n",
    "print(avgNet.predict(X))\n",
    "print(avgNet.score(X, Y))"
   ]
  },
  {
   "cell_type": "code",
   "execution_count": null,
   "id": "6d4a9daa",
   "metadata": {},
   "outputs": [],
   "source": [
    "from sklearn.linear_model import LinearRegression\n",
    "X = datawNAN\n",
    "Y = y\n",
    "reg = LinearRegression().fit(X, y)\n",
    "print(reg.score(X, Y))\n",
    "print(reg.coef_)\n",
    "print(reg.intercept_)\n",
    "print(reg.predict(X))"
   ]
  },
  {
   "cell_type": "code",
   "execution_count": null,
   "id": "6881c150",
   "metadata": {},
   "outputs": [],
   "source": [
    "batch_size = 64\n",
    "validation_split = .1\n",
    "test_split = .0\n",
    "l1_lambda, l2_lambda = 0.03, 0.01\n",
    "input_size = datawNAN.shape[1] - 1\n",
    "down_channels, up_channels = 2, 2\n",
    "lr = 1e-3\n",
    "epochs = 100"
   ]
  },
  {
   "cell_type": "code",
   "execution_count": null,
   "id": "b7b57593",
   "metadata": {},
   "outputs": [],
   "source": [
    "device = torch.device(\"cuda:0\" if torch.cuda.is_available() else \"cpu\")\n",
    "print(device)"
   ]
  },
  {
   "cell_type": "code",
   "execution_count": null,
   "id": "25802a35",
   "metadata": {},
   "outputs": [],
   "source": [
    "params = None\n",
    "datawNAN = torch.tensor(datawNAN, requires_grad=True).float()\n",
    "AgeModel = ElasticNet(input_size, l1_lambda, l2_lambda)\n",
    "for param in AgeModel.parameters():\n",
    "  torch.nn.init.zeros_(param.data)\n",
    "mean_loss = 0\n",
    "for train_idx, test_idx in gss.split(datawNAN, y, group):\n",
    "  train_sampler = SubsetRandomSampler(train_idx)\n",
    "  test_sampler = SubsetRandomSampler(test_idx)\n",
    "\n",
    "  train_loader = DataLoader(datawNAN, batch_size=batch_size,\n",
    "                                               sampler=train_sampler)\n",
    "  test_loader = DataLoader(datawNAN, batch_size=batch_size,\n",
    "                                             sampler=test_sampler)\n",
    "  \n",
    "  regr = ElasticNet(input_size, l1_lambda, l2_lambda)\n",
    "  reg_optim = Adam(regr.parameters(), lr)\n",
    "  metrics_history = train_regression(regr, train_loader, test_loader, batch_size, epochs, reg_optim, device)\n",
    "  for target_param, param in zip(AgeModel.parameters(), regr.parameters()):\n",
    "      target_param.data.copy_(param.data + target_param.data)\n",
    "  mean_loss += metrics_history[-1]\n",
    "\n",
    "for param in AgeModel.parameters():\n",
    "      param.data.copy_(param.data/n_groups)\n",
    "mean_loss /= n_groups\n",
    "\n",
    "print(\"Mean r2:\", mean_loss)\n",
    "\n",
    "age_loss_avg_val = 0\n",
    "r2_age_avg_val = 0\n",
    "total_batches_val = 0\n",
    "for train_idx, test_idx in gss.split(datawNAN, y, group):\n",
    "  x, age = datawNAN[test_idx][:, :-1], datawNAN[test_idx][:, -1]\n",
    "  total_batches_val += 1\n",
    "  age_pred = AgeModel(x)\n",
    "  dis_age = ((age - torch.mean(age)) ** 2).sum() / len(age)\n",
    "  age_loss2 = ((age_pred - age) ** 2).sum() / len(age)\n",
    "  age_loss = torch.sqrt(age_loss2)\n",
    "  r2_age = 1 - age_loss2 / dis_age\n",
    "  age_reg = regr.reg()\n",
    "  loss = age_loss2 + age_reg\n",
    "  age_loss_avg_val += age_loss.item()\n",
    "  r2_age_avg_val += r2_age.item()\n",
    "\n",
    "print(f\"Avg model test loss: {age_loss_avg_val / total_batches_val} | Avg model R2 test: {r2_age_avg_val / total_batches_val}\")"
   ]
  }
 ],
 "metadata": {
  "kernelspec": {
   "display_name": "Python 3 (ipykernel)",
   "language": "python",
   "name": "python3"
  },
  "language_info": {
   "codemirror_mode": {
    "name": "ipython",
    "version": 3
   },
   "file_extension": ".py",
   "mimetype": "text/x-python",
   "name": "python",
   "nbconvert_exporter": "python",
   "pygments_lexer": "ipython3",
   "version": "3.8.10"
  }
 },
 "nbformat": 4,
 "nbformat_minor": 5
}
